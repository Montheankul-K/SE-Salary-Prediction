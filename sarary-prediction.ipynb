{
 "cells": [
  {
   "cell_type": "code",
   "execution_count": null,
   "metadata": {},
   "outputs": [],
   "source": [
    "import pandas as pd\n",
    "import matplotlib.pyplot as plt\n",
    "import numpy as np\n",
    "\n",
    "# Read stackoverflow survey dataset\n",
    "df = pd.read_csv(\"./data/survey_results_public.csv\")\n",
    "df.head()"
   ]
  },
  {
   "cell_type": "code",
   "execution_count": null,
   "metadata": {},
   "outputs": [],
   "source": [
    "df.columns"
   ]
  },
  {
   "cell_type": "code",
   "execution_count": null,
   "metadata": {},
   "outputs": [],
   "source": [
    "df = df[[\"Country\", \"EdLevel\", \"YearsCode\", \"Employment\", \"ConvertedCompYearly\"]]\n",
    "df = df.rename({\"ConvertedCompYearly\": \"Salary\"}, axis=1)\n",
    "df.head()"
   ]
  },
  {
   "cell_type": "code",
   "execution_count": null,
   "metadata": {},
   "outputs": [],
   "source": [
    "df = df[df[\"Salary\"].notnull()]\n",
    "df.info()"
   ]
  },
  {
   "cell_type": "code",
   "execution_count": null,
   "metadata": {},
   "outputs": [],
   "source": [
    "df.isnull().sum()"
   ]
  },
  {
   "cell_type": "code",
   "execution_count": null,
   "metadata": {},
   "outputs": [],
   "source": [
    "df_no_na = df.dropna()\n",
    "df_no_na.isnull().sum()"
   ]
  },
  {
   "cell_type": "code",
   "execution_count": null,
   "metadata": {},
   "outputs": [],
   "source": [
    "df_no_na[\"Employment\"]"
   ]
  },
  {
   "cell_type": "code",
   "execution_count": null,
   "metadata": {},
   "outputs": [],
   "source": [
    "df_fulltime_employment = df_no_na[df_no_na[\"Employment\"]\n",
    "                                  == \"Employed, full-time\"]\n",
    "df_drop_employment = df_fulltime_employment.drop(\"Employment\", axis=1)\n",
    "df_drop_employment.info()"
   ]
  },
  {
   "cell_type": "code",
   "execution_count": null,
   "metadata": {},
   "outputs": [],
   "source": [
    "df_drop_employment.count()"
   ]
  },
  {
   "cell_type": "code",
   "execution_count": null,
   "metadata": {},
   "outputs": [],
   "source": [
    "df_drop_employment[\"Country\"].value_counts()"
   ]
  },
  {
   "cell_type": "code",
   "execution_count": null,
   "metadata": {},
   "outputs": [],
   "source": [
    "def shorted_categories(categories, cutoff_value):\n",
    "    categorical = {}\n",
    "    for i in range(len(categories)):\n",
    "        if categories.values[i] >= cutoff_value:\n",
    "            categorical[categories.index[i]] = categories.index[i]\n",
    "        else:\n",
    "            categorical[categories.index[i]] = \"Other\"\n",
    "    return categorical"
   ]
  },
  {
   "cell_type": "code",
   "execution_count": null,
   "metadata": {},
   "outputs": [],
   "source": [
    "country_map = shorted_categories(\n",
    "    df_drop_employment.Country.value_counts(), 400)\n",
    "df_drop_employment[\"Country\"] = df_drop_employment[\"Country\"].map(country_map)\n",
    "df_drop_employment.Country.value_counts()"
   ]
  },
  {
   "cell_type": "code",
   "execution_count": null,
   "metadata": {},
   "outputs": [],
   "source": [
    "df_drop_employment[\"Country\"].isnull().sum()"
   ]
  },
  {
   "cell_type": "code",
   "execution_count": null,
   "metadata": {},
   "outputs": [],
   "source": [
    "# Explore statistic of cloumn salary\n",
    "print(df_drop_employment[\"Salary\"].min())\n",
    "print(df_drop_employment[\"Salary\"].max())\n",
    "print(df_drop_employment[\"Salary\"].mean())"
   ]
  },
  {
   "cell_type": "code",
   "execution_count": null,
   "metadata": {},
   "outputs": [],
   "source": [
    "# Clean extreme value\n",
    "\n",
    "# 3 sigma rule\n",
    "salary_mean = df_drop_employment[\"Salary\"].mean()\n",
    "salary_std = df_drop_employment[\"Salary\"].std()\n",
    "print(f\"Salary mean : {salary_mean}\")\n",
    "print(f\"Salary std : {salary_std}\")\n",
    "tsig_upper_bound = salary_mean + (3 * salary_std)\n",
    "tsig_lower_bound = salary_mean - (3 * salary_std)\n",
    "print(f\"3 sigma upper bound : {tsig_upper_bound}\")\n",
    "print(f\"3 sigma lower bound : {tsig_lower_bound}\")\n",
    "\n",
    "# IQR\n",
    "q1 = df_drop_employment[\"Salary\"].quantile(0.25)\n",
    "q3 = df_drop_employment[\"Salary\"].quantile(0.75)\n",
    "iqr = q3 - q1\n",
    "print(f\"IQR : {iqr}\")\n",
    "iqr_upper_bound = q3 + 1.5 * iqr\n",
    "iqr_lower_bound = q1 - 1.5 * iqr\n",
    "print(f\"IQR upper bound {iqr_upper_bound}\")\n",
    "print(f\"IQR lower bound {iqr_lower_bound}\")\n",
    "\n",
    "# Winsorizing\n",
    "upper_limit = df_drop_employment[\"Salary\"].quantile(0.99)\n",
    "lower_limit = df_drop_employment[\"Salary\"].quantile(0.01)\n",
    "print(f\"Winsorizing upper limit : {upper_limit}\")\n",
    "print(f\"Winsorizing lower limit : {lower_limit}\")\n",
    "\n",
    "# Choose upper limit and lower limit from winsorizing to filter out extreme value\n",
    "df_clean_salary = df_drop_employment[df_drop_employment[\"Salary\"].between(\n",
    "    lower_limit, upper_limit)]\n",
    "print(df_clean_salary[\"Salary\"].min())\n",
    "print(df_clean_salary[\"Salary\"].max())\n",
    "print(df_clean_salary[\"Salary\"].mean())"
   ]
  },
  {
   "cell_type": "code",
   "execution_count": null,
   "metadata": {},
   "outputs": [],
   "source": [
    "df_clean_salary.count()"
   ]
  },
  {
   "cell_type": "code",
   "execution_count": null,
   "metadata": {},
   "outputs": [],
   "source": [
    "# Inspect sarary range with Boxplot\n",
    "fig, ax = plt.subplots(1, 1, figsize=(12, 7))\n",
    "df_clean_salary.boxplot(\"Salary\", \"Country\", ax=ax)\n",
    "plt.xticks(rotation=90)\n",
    "plt.xlabel(\"Country\")\n",
    "plt.ylabel(\"Salary\")\n",
    "plt.show()"
   ]
  },
  {
   "cell_type": "code",
   "execution_count": null,
   "metadata": {},
   "outputs": [],
   "source": [
    "df_clean_salary[\"Country\"].unique()"
   ]
  },
  {
   "cell_type": "code",
   "execution_count": null,
   "metadata": {},
   "outputs": [],
   "source": [
    "df_clean_salary[df_clean_salary[\"Country\"] == \"Other\"].count()"
   ]
  },
  {
   "cell_type": "code",
   "execution_count": null,
   "metadata": {},
   "outputs": [],
   "source": [
    "df_clean_other = df_clean_salary[df_clean_salary[\"Country\"] != \"Other\"]\n",
    "df_clean_other.count()"
   ]
  },
  {
   "cell_type": "code",
   "execution_count": null,
   "metadata": {},
   "outputs": [],
   "source": [
    "df_clean_other[\"Country\"].unique()"
   ]
  },
  {
   "cell_type": "code",
   "execution_count": null,
   "metadata": {},
   "outputs": [],
   "source": [
    "# Clean year experience\n",
    "df_clean_other[\"YearsCode\"].unique()"
   ]
  },
  {
   "cell_type": "code",
   "execution_count": null,
   "metadata": {},
   "outputs": [],
   "source": [
    "def clean_year_code(year_code):\n",
    "    if year_code == \"Less than 1 year\":\n",
    "        return 0.5\n",
    "    if year_code == \"More than 50 years\":\n",
    "        return 50\n",
    "    return float(year_code)\n",
    "\n",
    "\n",
    "df_clean_other[\"YearsCode\"] = df_clean_other[\"YearsCode\"].apply(\n",
    "    clean_year_code)\n",
    "df_clean_other[\"YearsCode\"].unique()"
   ]
  },
  {
   "cell_type": "code",
   "execution_count": null,
   "metadata": {},
   "outputs": [],
   "source": [
    "df_clean_other[\"EdLevel\"].unique()"
   ]
  },
  {
   "cell_type": "code",
   "execution_count": null,
   "metadata": {},
   "outputs": [],
   "source": [
    "def clean_education(edu):\n",
    "    if \"Bachelor’s degree\" in edu:\n",
    "        return \"Bachelor’s degree\"\n",
    "    if \"Master’s degree\" in edu:\n",
    "        return \"Master’s degree\"\n",
    "    if \"Professional degree\" in edu:\n",
    "        return \"More than a Master's degree\"\n",
    "    return \"Less than a Bachelor's degree\"\n",
    "\n",
    "\n",
    "df_clean_other[\"EdLevel\"] = df_clean_other[\"EdLevel\"].apply(clean_education)\n",
    "df_clean_other[\"EdLevel\"].unique()"
   ]
  },
  {
   "cell_type": "code",
   "execution_count": null,
   "metadata": {},
   "outputs": [],
   "source": [
    "df_clean = df_clean_other.reset_index(drop=True)"
   ]
  },
  {
   "cell_type": "code",
   "execution_count": null,
   "metadata": {},
   "outputs": [],
   "source": [
    "from sklearn.preprocessing import LabelEncoder\n",
    "le_education = LabelEncoder()\n",
    "df_clean[\"EdLevel\"] = le_education.fit_transform(df_clean[\"EdLevel\"])\n",
    "\n",
    "le_country = LabelEncoder()\n",
    "df_clean[\"Country\"] = le_country.fit_transform(df_clean[\"Country\"])\n",
    "df_clean.head()"
   ]
  },
  {
   "cell_type": "code",
   "execution_count": null,
   "metadata": {},
   "outputs": [],
   "source": [
    "df_clean.value_counts()"
   ]
  },
  {
   "cell_type": "code",
   "execution_count": null,
   "metadata": {},
   "outputs": [],
   "source": [
    "# Split feature\n",
    "x = df_clean.drop(\"Salary\", axis=1)\n",
    "y = df_clean[\"Salary\"]"
   ]
  },
  {
   "cell_type": "code",
   "execution_count": null,
   "metadata": {},
   "outputs": [],
   "source": [
    "from sklearn.metrics import mean_squared_error, mean_absolute_error\n",
    "from sklearn.linear_model import LinearRegression\n",
    "lm = LinearRegression()\n",
    "lm.fit(x, y.values)\n",
    "\n",
    "lm_y_pred = lm.predict(x)\n",
    "\n",
    "lm_error = np.sqrt(mean_squared_error(y, lm_y_pred))\n",
    "lm_error"
   ]
  },
  {
   "cell_type": "code",
   "execution_count": null,
   "metadata": {},
   "outputs": [],
   "source": [
    "from sklearn.tree import DecisionTreeRegressor\n",
    "dt = DecisionTreeRegressor(random_state=0)\n",
    "dt.fit(x, y.values)\n",
    "\n",
    "dt_y_pred = dt.predict(x)\n",
    "\n",
    "dt_error = np.sqrt(mean_squared_error(y, dt_y_pred))\n",
    "print(\"${:,.02f}\".format(dt_error))"
   ]
  },
  {
   "cell_type": "code",
   "execution_count": null,
   "metadata": {},
   "outputs": [],
   "source": [
    "from sklearn.ensemble import RandomForestRegressor\n",
    "rf = RandomForestRegressor(random_state=0)\n",
    "rf.fit(x, y.values)\n",
    "\n",
    "rf_y_pred = rf.predict(x)\n",
    "\n",
    "rf_error = np.sqrt(mean_squared_error(y, rf_y_pred))\n",
    "print(\"${:,.02f}\".format(rf_error))"
   ]
  },
  {
   "cell_type": "code",
   "execution_count": null,
   "metadata": {},
   "outputs": [],
   "source": [
    "from sklearn.model_selection import GridSearchCV\n",
    "\n",
    "max_depth = [None, 2, 4, 6, 8, 10, 12, 14, 16, 18, 20]\n",
    "parameters = {\"max_depth\": max_depth}\n",
    "\n",
    "dt_regressor = DecisionTreeRegressor(random_state=0)\n",
    "dt_gs = GridSearchCV(dt_regressor, parameters,\n",
    "                     scoring=\"neg_mean_squared_error\")\n",
    "dt_gs.fit(x, y.values)\n",
    "\n",
    "dt_regressor = dt_gs.best_estimator_\n",
    "dt_regressor.fit(x, y.values)\n",
    "\n",
    "dt_regressor_y_pred = dt_regressor.predict(x)\n",
    "dt_regressor_error = np.sqrt(mean_squared_error(y, dt_regressor_y_pred))\n",
    "print(\"${:,.02f}\".format(dt_regressor_error))"
   ]
  },
  {
   "cell_type": "code",
   "execution_count": null,
   "metadata": {},
   "outputs": [],
   "source": [
    "x = np.array([[\"United States of America\", \"Master’s degree\", 15]])\n",
    "x"
   ]
  },
  {
   "cell_type": "code",
   "execution_count": null,
   "metadata": {},
   "outputs": [],
   "source": [
    "x[:, 0] = le_country.transform(x[:, 0])\n",
    "x[:, 1] = le_education.transform(x[:, 1])\n",
    "x = x.astype(float)\n",
    "x"
   ]
  },
  {
   "cell_type": "code",
   "execution_count": null,
   "metadata": {},
   "outputs": [],
   "source": [
    "dt_y_pred = dt_regressor.predict(x)\n",
    "dt_y_pred"
   ]
  },
  {
   "cell_type": "code",
   "execution_count": null,
   "metadata": {},
   "outputs": [],
   "source": [
    "import pickle\n",
    "data = {\"model\": dt_regressor, \"le_country\": le_country,\n",
    "        \"le_education\": le_education}\n",
    "with open(\"./model/saved_steps.pkl\", \"wb\") as file:\n",
    "    pickle.dump(data, file)"
   ]
  },
  {
   "cell_type": "code",
   "execution_count": null,
   "metadata": {},
   "outputs": [],
   "source": [
    "with open(\"./model/saved_steps.pkl\", \"rb\") as file:\n",
    "    data = pickle.load(file)\n",
    "\n",
    "dt_regressor_loaded = data[\"model\"]\n",
    "le_country = data[\"le_country\"]\n",
    "le_education = data[\"le_education\"]"
   ]
  },
  {
   "cell_type": "code",
   "execution_count": null,
   "metadata": {},
   "outputs": [],
   "source": [
    "y_pred = dt_regressor_loaded.predict(x)\n",
    "y_pred"
   ]
  }
 ],
 "metadata": {
  "kernelspec": {
   "display_name": "Python 3",
   "language": "python",
   "name": "python3"
  },
  "language_info": {
   "codemirror_mode": {
    "name": "ipython",
    "version": 3
   },
   "file_extension": ".py",
   "mimetype": "text/x-python",
   "name": "python",
   "nbconvert_exporter": "python",
   "pygments_lexer": "ipython3",
   "version": "3.11.5"
  }
 },
 "nbformat": 4,
 "nbformat_minor": 2
}
